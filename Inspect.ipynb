{
 "cells": [
  {
   "cell_type": "code",
   "execution_count": 1,
   "metadata": {},
   "outputs": [],
   "source": [
    "import pandas as pd\n",
    "import os, sys\n",
    "from ProjectDict import *"
   ]
  },
  {
   "cell_type": "code",
   "execution_count": 2,
   "metadata": {},
   "outputs": [],
   "source": [
    "theme = laughing_man # \n",
    "keyword = \"웃남\"\n",
    "\n",
    "rpath = os.path.join(os.getcwd(), \"search_data\", theme)\n",
    "files = os.listdir(rpath)"
   ]
  },
  {
   "cell_type": "code",
   "execution_count": 3,
   "metadata": {},
   "outputs": [
    {
     "data": {
      "text/plain": [
       "['웃남_musicalplay.csv',\n",
       " '웃남_theatergoing.csv',\n",
       " '웃남_theaterM.csv',\n",
       " '웃남_twitter.csv',\n",
       " '웃는 남자_musicalplay.csv',\n",
       " '웃는 남자_theatergoing.csv',\n",
       " '웃는 남자_theaterM.csv',\n",
       " '웃는 남자_twitter.csv',\n",
       " '웃는남자_musicalplay.csv',\n",
       " '웃는남자_theatergoing.csv',\n",
       " '웃는남자_theaterM.csv',\n",
       " '웃는남자_twitter.csv']"
      ]
     },
     "execution_count": 3,
     "metadata": {},
     "output_type": "execute_result"
    }
   ],
   "source": [
    "files"
   ]
  },
  {
   "cell_type": "code",
   "execution_count": 4,
   "metadata": {},
   "outputs": [],
   "source": [
    "files = [file for file in files if keyword in file]"
   ]
  },
  {
   "cell_type": "code",
   "execution_count": 5,
   "metadata": {},
   "outputs": [
    {
     "name": "stdout",
     "output_type": "stream",
     "text": [
      "['웃남_musicalplay.csv', '웃남_theatergoing.csv', '웃남_theaterM.csv', '웃남_twitter.csv']\n"
     ]
    }
   ],
   "source": [
    "print(files)"
   ]
  },
  {
   "cell_type": "code",
   "execution_count": 6,
   "metadata": {},
   "outputs": [],
   "source": [
    "FILTER_KEYWORDS = [\"잼\", \"재미\"]"
   ]
  },
  {
   "cell_type": "code",
   "execution_count": 7,
   "metadata": {},
   "outputs": [],
   "source": [
    "# dfs = []\n",
    "# for filename in files:\n",
    "#     df = pd.read_csv(os.path.join(rpath,filename), index_col=0)\n",
    "#     # strings = [f\"{title}\\n{text}\" for title, text in zip(*map(pd.Series.to_list, [df['title'], df['text']]))]\n",
    "#     # mask = [True if any((keyword in string) for keyword in FILTER_KEYWORDS) else False for string in strings]\n",
    "#     # df = df[mask]\n",
    "#     dfs.append(df)\n",
    "\n",
    "# df = pd.concat(dfs)\n",
    "# df = df.drop_duplicates(subset=[\"text\"])\n",
    "# df.to_csv(os.path.join(f\"./inspected_data/{theme}_inspected.csv\"), encoding=\"utf-8-sig\")"
   ]
  },
  {
   "cell_type": "code",
   "execution_count": 8,
   "metadata": {},
   "outputs": [],
   "source": [
    "dfs = []\n",
    "for filename in files:\n",
    "    df = pd.read_csv(os.path.join(rpath,filename), index_col=0)\n",
    "    # strings = [f\"{title}\\n{text}\" for title, text in zip(*map(pd.Series.to_list, [df['title'], df['text']]))]\n",
    "    # mask = [True if any((keyword in string) for keyword in FILTER_KEYWORDS) else False for string in strings]\n",
    "    # df = df[mask]\n",
    "    dfs.append(df)\n",
    "\n",
    "df = pd.concat(dfs)"
   ]
  },
  {
   "cell_type": "code",
   "execution_count": 9,
   "metadata": {},
   "outputs": [
    {
     "data": {
      "text/plain": [
       "3188"
      ]
     },
     "execution_count": 9,
     "metadata": {},
     "output_type": "execute_result"
    }
   ],
   "source": [
    "len(df)"
   ]
  },
  {
   "cell_type": "code",
   "execution_count": 10,
   "metadata": {},
   "outputs": [],
   "source": [
    "df.to_csv(os.path.join(f\"./inspected_data/{theme}_{keyword}_inspected.csv\"), encoding=\"utf-8-sig\")"
   ]
  },
  {
   "cell_type": "code",
   "execution_count": null,
   "metadata": {},
   "outputs": [],
   "source": []
  }
 ],
 "metadata": {
  "kernelspec": {
   "display_name": "torch",
   "language": "python",
   "name": "python3"
  },
  "language_info": {
   "codemirror_mode": {
    "name": "ipython",
    "version": 3
   },
   "file_extension": ".py",
   "mimetype": "text/x-python",
   "name": "python",
   "nbconvert_exporter": "python",
   "pygments_lexer": "ipython3",
   "version": "3.9.16"
  },
  "orig_nbformat": 4,
  "vscode": {
   "interpreter": {
    "hash": "6e47abb3bc20041deac6632286b3b4b57a061d2b0d8fe9baeeda94211020ef32"
   }
  }
 },
 "nbformat": 4,
 "nbformat_minor": 2
}
