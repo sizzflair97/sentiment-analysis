{
 "cells": [
  {
   "cell_type": "code",
   "execution_count": 1,
   "metadata": {},
   "outputs": [
    {
     "name": "stdout",
     "output_type": "stream",
     "text": [
      "device: cuda\n",
      "None\n"
     ]
    }
   ],
   "source": [
    "import torch, os\n",
    "import pandas as pd\n",
    "import numpy as np\n",
    "from transformers import FunnelTokenizerFast, DataCollatorWithPadding, FunnelForSequenceClassification\n",
    "from ProjectDict import *\n",
    "from tqdm.auto import tqdm\n",
    "\n",
    "device = \"cpu\"\n",
    "if torch.cuda.is_available():\n",
    "    device = \"cuda\"\n",
    "# device = 'dml' if torch.cuda.is_available() else 'cpu'\n",
    "print(f\"device: {device}\")\n",
    "print(torch.version.hip)"
   ]
  },
  {
   "cell_type": "code",
   "execution_count": 2,
   "metadata": {},
   "outputs": [
    {
     "name": "stderr",
     "output_type": "stream",
     "text": [
      "C:\\Users\\sizzf\\AppData\\Local\\Temp\\ipykernel_34928\\3171766943.py:3: DtypeWarning: Columns (5,6,7,8,9,10,11,12,13,14,15,16,17,18,19,20,21,22,23,24,25,26,27,28,29,30,31,32,33,34,35,36,37,38,39,40,41,42,43,44,45,46,47,48,49,50,51,52,53,54,55,56,57,58,59,60,61,62,63,64,65,66,67,68,69,70,71,72,73,74,75,76,77,78,79,80,81,82,83,84,85,86,87,88,89,90,91,92,93,94,95,96,97,98,99,100,101,102,103,104,105,106,107,108,109,110,111,112,113,114,115,116,117,118,119,120,121,122,123,124,125,126,127,128,129,130,131,132,133,134,135,136,137,138,139,140,141,142,143,144,145,146,147,148,149,150,151,152,153,154,155,156,157,158,159,160,161,162,163,164,165,166,167,168,169,170,171,172,173,174,175,176,177,178,179,180,181,182,183,184,185,186,187,188,189,190,191,192,193,194,195,196,197,198,199,200,201,202,203,204,205,206,207,208,209,210,211,212,213,214,215,216,217,218,219,220,221,222,223,224,225,226,227,228,229,230,231,232,233,234,235,236,237,238,239,240,241,242,243,244,245,246,247,248,249,250,251,252,253,254,255,256,257,258,259,261,262,263,264,265,266,267,268,269,270,271,272,273,274,275,276,277,278,279,280,281,282,283,284,285,286,287,288,289,290) have mixed types. Specify dtype option on import or set low_memory=False.\n",
      "  df = pd.read_csv(os.path.join(rpath, f\"{theme}_splitted.csv\"))\n"
     ]
    }
   ],
   "source": [
    "rpath = os.path.join(\"inspected_data\")\n",
    "theme = laughing_man\n",
    "df = pd.read_csv(os.path.join(rpath, f\"{theme}_splitted.csv\"))"
   ]
  },
  {
   "cell_type": "code",
   "execution_count": 3,
   "metadata": {},
   "outputs": [],
   "source": [
    "rows = []\n",
    "for row in df.to_numpy():\n",
    "    text = \"\"\n",
    "    for sentence in row:\n",
    "        if type(sentence) == str:\n",
    "            text += '' + sentence\n",
    "    rows.append(text)"
   ]
  },
  {
   "cell_type": "code",
   "execution_count": 4,
   "metadata": {},
   "outputs": [
    {
     "data": {
      "text/html": [
       "<div>\n",
       "<style scoped>\n",
       "    .dataframe tbody tr th:only-of-type {\n",
       "        vertical-align: middle;\n",
       "    }\n",
       "\n",
       "    .dataframe tbody tr th {\n",
       "        vertical-align: top;\n",
       "    }\n",
       "\n",
       "    .dataframe thead th {\n",
       "        text-align: right;\n",
       "    }\n",
       "</style>\n",
       "<table border=\"1\" class=\"dataframe\">\n",
       "  <thead>\n",
       "    <tr style=\"text-align: right;\">\n",
       "      <th></th>\n",
       "      <th>0</th>\n",
       "      <th>1</th>\n",
       "      <th>2</th>\n",
       "      <th>3</th>\n",
       "      <th>4</th>\n",
       "      <th>5</th>\n",
       "      <th>6</th>\n",
       "      <th>7</th>\n",
       "      <th>8</th>\n",
       "      <th>9</th>\n",
       "      <th>...</th>\n",
       "      <th>281</th>\n",
       "      <th>282</th>\n",
       "      <th>283</th>\n",
       "      <th>284</th>\n",
       "      <th>285</th>\n",
       "      <th>286</th>\n",
       "      <th>287</th>\n",
       "      <th>288</th>\n",
       "      <th>289</th>\n",
       "      <th>290</th>\n",
       "    </tr>\n",
       "  </thead>\n",
       "  <tbody>\n",
       "    <tr>\n",
       "      <th>0</th>\n",
       "      <td>어제 마리앙이랑 웃남 영화 관람일이었는데 까먹고 안갔어</td>\n",
       "      <td>휴..</td>\n",
       "      <td>나 어제 간만에 쉬는날이라 두 탕 하려고 마리앙 웃남 예매해 놨었거든?</td>\n",
       "      <td>근데 아침에 친구들이 연락와서 간만에 쉬는데 놀자네?</td>\n",
       "      <td>실컷 놀고 집에 와서 아 개</td>\n",
       "      <td>피곤해</td>\n",
       "      <td>이러는데 번뜩!!</td>\n",
       "      <td>부랴부랴 cgv앱 들어가보니 마리앙은 지나갔고 웃남은 시작 10분전이었어.</td>\n",
       "      <td>15분전까지만 취소가능하다며...</td>\n",
       "      <td>평소에 공연날 깜빡해서 못가면 어쩌지?</td>\n",
       "      <td>...</td>\n",
       "      <td>NaN</td>\n",
       "      <td>NaN</td>\n",
       "      <td>NaN</td>\n",
       "      <td>NaN</td>\n",
       "      <td>NaN</td>\n",
       "      <td>NaN</td>\n",
       "      <td>NaN</td>\n",
       "      <td>NaN</td>\n",
       "      <td>NaN</td>\n",
       "      <td>NaN</td>\n",
       "    </tr>\n",
       "    <tr>\n",
       "      <th>1</th>\n",
       "      <td>웃남</td>\n",
       "      <td>cgv 머글 많더라</td>\n",
       "      <td>난 뮤덕들만 이런 영화 찾아올줄 알았는데 커플도 많고 가족단위도 많더라</td>\n",
       "      <td>그리고 좌석 편안한데 사람들 중간에 들락날락하는거 적응안됨또 넘버 끝날때마다 정적 ...</td>\n",
       "      <td>NaN</td>\n",
       "      <td>NaN</td>\n",
       "      <td>NaN</td>\n",
       "      <td>NaN</td>\n",
       "      <td>NaN</td>\n",
       "      <td>NaN</td>\n",
       "      <td>...</td>\n",
       "      <td>NaN</td>\n",
       "      <td>NaN</td>\n",
       "      <td>NaN</td>\n",
       "      <td>NaN</td>\n",
       "      <td>NaN</td>\n",
       "      <td>NaN</td>\n",
       "      <td>NaN</td>\n",
       "      <td>NaN</td>\n",
       "      <td>NaN</td>\n",
       "      <td>NaN</td>\n",
       "    </tr>\n",
       "    <tr>\n",
       "      <th>2</th>\n",
       "      <td>베토벤 넘버 더 없나 웃남때는 넘버 처음듣고 이거다 하는게 몇개 있었는데 이번꺼는 ...</td>\n",
       "      <td>NaN</td>\n",
       "      <td>NaN</td>\n",
       "      <td>NaN</td>\n",
       "      <td>NaN</td>\n",
       "      <td>NaN</td>\n",
       "      <td>NaN</td>\n",
       "      <td>NaN</td>\n",
       "      <td>NaN</td>\n",
       "      <td>NaN</td>\n",
       "      <td>...</td>\n",
       "      <td>NaN</td>\n",
       "      <td>NaN</td>\n",
       "      <td>NaN</td>\n",
       "      <td>NaN</td>\n",
       "      <td>NaN</td>\n",
       "      <td>NaN</td>\n",
       "      <td>NaN</td>\n",
       "      <td>NaN</td>\n",
       "      <td>NaN</td>\n",
       "      <td>NaN</td>\n",
       "    </tr>\n",
       "    <tr>\n",
       "      <th>3</th>\n",
       "      <td>CGV 웃남</td>\n",
       "      <td>후기(스포,불호 있음) 웃남</td>\n",
       "      <td>삼연만 본사고 초연 가든파티가 궁금해서 봤는데...</td>\n",
       "      <td>초연의 문제라기보다는 편집의 문제 같다...</td>\n",
       "      <td>180분짜리 극이 아무리 인터미션이 없어도 160분만에 되나</td>\n",
       "      <td>했는데 ,전체적으로 빠른 느낌이고 대사도 많이 잘린 느낌  배우들이 길게 끌면서 부...</td>\n",
       "      <td>삼연이랑 비교해서 달라진 부분, 삼연에서 못 봤던 배우들 느낌 위주로 쓸게  +삼연...</td>\n",
       "      <td>콤프라치코스가 17세기 영국에서 도망친다!!</td>\n",
       "      <td>이 부분 정확한 대사는 모르겠는데 일단 콤프라치코스, 콤프라치코스, 콤프라치코스!</td>\n",
       "      <td>라고 부르는 부분 없었고, 콤프라치코스가 상처입힌 사람들 얼굴 없었음  - 콤프라치...</td>\n",
       "      <td>...</td>\n",
       "      <td>NaN</td>\n",
       "      <td>NaN</td>\n",
       "      <td>NaN</td>\n",
       "      <td>NaN</td>\n",
       "      <td>NaN</td>\n",
       "      <td>NaN</td>\n",
       "      <td>NaN</td>\n",
       "      <td>NaN</td>\n",
       "      <td>NaN</td>\n",
       "      <td>NaN</td>\n",
       "    </tr>\n",
       "    <tr>\n",
       "      <th>4</th>\n",
       "      <td>(끌올) 한뮤어 웃남 불판</td>\n",
       "      <td>한뮤어 시네마스테이지 웃는남자 불판</td>\n",
       "      <td>- 뮤지컬 연극 통합 미니 갤러리삼연만 본사인데 드디어 보고왔다나만 오열했니 초연 ...</td>\n",
       "      <td>신시아나는 진짜 그대로 와...!</td>\n",
       "      <td>NaN</td>\n",
       "      <td>NaN</td>\n",
       "      <td>NaN</td>\n",
       "      <td>NaN</td>\n",
       "      <td>NaN</td>\n",
       "      <td>NaN</td>\n",
       "      <td>...</td>\n",
       "      <td>NaN</td>\n",
       "      <td>NaN</td>\n",
       "      <td>NaN</td>\n",
       "      <td>NaN</td>\n",
       "      <td>NaN</td>\n",
       "      <td>NaN</td>\n",
       "      <td>NaN</td>\n",
       "      <td>NaN</td>\n",
       "      <td>NaN</td>\n",
       "      <td>NaN</td>\n",
       "    </tr>\n",
       "    <tr>\n",
       "      <th>...</th>\n",
       "      <td>...</td>\n",
       "      <td>...</td>\n",
       "      <td>...</td>\n",
       "      <td>...</td>\n",
       "      <td>...</td>\n",
       "      <td>...</td>\n",
       "      <td>...</td>\n",
       "      <td>...</td>\n",
       "      <td>...</td>\n",
       "      <td>...</td>\n",
       "      <td>...</td>\n",
       "      <td>...</td>\n",
       "      <td>...</td>\n",
       "      <td>...</td>\n",
       "      <td>...</td>\n",
       "      <td>...</td>\n",
       "      <td>...</td>\n",
       "      <td>...</td>\n",
       "      <td>...</td>\n",
       "      <td>...</td>\n",
       "      <td>...</td>\n",
       "    </tr>\n",
       "    <tr>\n",
       "      <th>6148</th>\n",
       "      <td>220814 웃는남자</td>\n",
       "      <td>NaN</td>\n",
       "      <td>NaN</td>\n",
       "      <td>NaN</td>\n",
       "      <td>NaN</td>\n",
       "      <td>NaN</td>\n",
       "      <td>NaN</td>\n",
       "      <td>NaN</td>\n",
       "      <td>NaN</td>\n",
       "      <td>NaN</td>\n",
       "      <td>...</td>\n",
       "      <td>NaN</td>\n",
       "      <td>NaN</td>\n",
       "      <td>NaN</td>\n",
       "      <td>NaN</td>\n",
       "      <td>NaN</td>\n",
       "      <td>NaN</td>\n",
       "      <td>NaN</td>\n",
       "      <td>NaN</td>\n",
       "      <td>NaN</td>\n",
       "      <td>NaN</td>\n",
       "    </tr>\n",
       "    <tr>\n",
       "      <th>6149</th>\n",
       "      <td>웃는남자네일식스_보노보노</td>\n",
       "      <td>다</td>\n",
       "      <td>젖음 작업실</td>\n",
       "      <td>조건만남애인대행</td>\n",
       "      <td>여공남수섹트일반후장출장안마</td>\n",
       "      <td>NaN</td>\n",
       "      <td>NaN</td>\n",
       "      <td>NaN</td>\n",
       "      <td>NaN</td>\n",
       "      <td>NaN</td>\n",
       "      <td>...</td>\n",
       "      <td>NaN</td>\n",
       "      <td>NaN</td>\n",
       "      <td>NaN</td>\n",
       "      <td>NaN</td>\n",
       "      <td>NaN</td>\n",
       "      <td>NaN</td>\n",
       "      <td>NaN</td>\n",
       "      <td>NaN</td>\n",
       "      <td>NaN</td>\n",
       "      <td>NaN</td>\n",
       "    </tr>\n",
       "    <tr>\n",
       "      <th>6150</th>\n",
       "      <td>애기야혹시비와....?</td>\n",
       "      <td>깨자마자 저벅저벅 걸어와서 여친 껴안고 날씨 묻는 남자.</td>\n",
       "      <td>웅그래서에어컨개빵빵하게틀었어 대답하는 여친 좋아서 푸스스웃는남자.</td>\n",
       "      <td>나부어찌......</td>\n",
       "      <td>추우면 붓기잘빠져 말듣고 그대로 여친 껴안아서 에어컨 바람 앞</td>\n",
       "      <td>NaN</td>\n",
       "      <td>NaN</td>\n",
       "      <td>NaN</td>\n",
       "      <td>NaN</td>\n",
       "      <td>NaN</td>\n",
       "      <td>...</td>\n",
       "      <td>NaN</td>\n",
       "      <td>NaN</td>\n",
       "      <td>NaN</td>\n",
       "      <td>NaN</td>\n",
       "      <td>NaN</td>\n",
       "      <td>NaN</td>\n",
       "      <td>NaN</td>\n",
       "      <td>NaN</td>\n",
       "      <td>NaN</td>\n",
       "      <td>NaN</td>\n",
       "    </tr>\n",
       "    <tr>\n",
       "      <th>6151</th>\n",
       "      <td>웃는남자송파구가족센터</td>\n",
       "      <td>오늘도못자고있다</td>\n",
       "      <td>온아 웰릭스 null</td>\n",
       "      <td>NaN</td>\n",
       "      <td>NaN</td>\n",
       "      <td>NaN</td>\n",
       "      <td>NaN</td>\n",
       "      <td>NaN</td>\n",
       "      <td>NaN</td>\n",
       "      <td>NaN</td>\n",
       "      <td>...</td>\n",
       "      <td>NaN</td>\n",
       "      <td>NaN</td>\n",
       "      <td>NaN</td>\n",
       "      <td>NaN</td>\n",
       "      <td>NaN</td>\n",
       "      <td>NaN</td>\n",
       "      <td>NaN</td>\n",
       "      <td>NaN</td>\n",
       "      <td>NaN</td>\n",
       "      <td>NaN</td>\n",
       "    </tr>\n",
       "    <tr>\n",
       "      <th>6152</th>\n",
       "      <td>수호 뮤지컬 웃는남자 고화질 엑소</td>\n",
       "      <td>NaN</td>\n",
       "      <td>NaN</td>\n",
       "      <td>NaN</td>\n",
       "      <td>NaN</td>\n",
       "      <td>NaN</td>\n",
       "      <td>NaN</td>\n",
       "      <td>NaN</td>\n",
       "      <td>NaN</td>\n",
       "      <td>NaN</td>\n",
       "      <td>...</td>\n",
       "      <td>NaN</td>\n",
       "      <td>NaN</td>\n",
       "      <td>NaN</td>\n",
       "      <td>NaN</td>\n",
       "      <td>NaN</td>\n",
       "      <td>NaN</td>\n",
       "      <td>NaN</td>\n",
       "      <td>NaN</td>\n",
       "      <td>NaN</td>\n",
       "      <td>NaN</td>\n",
       "    </tr>\n",
       "  </tbody>\n",
       "</table>\n",
       "<p>6153 rows × 291 columns</p>\n",
       "</div>"
      ],
      "text/plain": [
       "                                                      0  \\\n",
       "0                        어제 마리앙이랑 웃남 영화 관람일이었는데 까먹고 안갔어   \n",
       "1                                                    웃남   \n",
       "2     베토벤 넘버 더 없나 웃남때는 넘버 처음듣고 이거다 하는게 몇개 있었는데 이번꺼는 ...   \n",
       "3                                                CGV 웃남   \n",
       "4                                        (끌올) 한뮤어 웃남 불판   \n",
       "...                                                 ...   \n",
       "6148                                        220814 웃는남자   \n",
       "6149                                      웃는남자네일식스_보노보노   \n",
       "6150                                       애기야혹시비와....?   \n",
       "6151                                        웃는남자송파구가족센터   \n",
       "6152                                 수호 뮤지컬 웃는남자 고화질 엑소   \n",
       "\n",
       "                                    1  \\\n",
       "0                                 휴..   \n",
       "1                          cgv 머글 많더라   \n",
       "2                                 NaN   \n",
       "3                     후기(스포,불호 있음) 웃남   \n",
       "4                 한뮤어 시네마스테이지 웃는남자 불판   \n",
       "...                               ...   \n",
       "6148                              NaN   \n",
       "6149                                다   \n",
       "6150  깨자마자 저벅저벅 걸어와서 여친 껴안고 날씨 묻는 남자.   \n",
       "6151                         오늘도못자고있다   \n",
       "6152                              NaN   \n",
       "\n",
       "                                                      2  \\\n",
       "0               나 어제 간만에 쉬는날이라 두 탕 하려고 마리앙 웃남 예매해 놨었거든?   \n",
       "1               난 뮤덕들만 이런 영화 찾아올줄 알았는데 커플도 많고 가족단위도 많더라   \n",
       "2                                                   NaN   \n",
       "3                          삼연만 본사고 초연 가든파티가 궁금해서 봤는데...   \n",
       "4     - 뮤지컬 연극 통합 미니 갤러리삼연만 본사인데 드디어 보고왔다나만 오열했니 초연 ...   \n",
       "...                                                 ...   \n",
       "6148                                                NaN   \n",
       "6149                                             젖음 작업실   \n",
       "6150               웅그래서에어컨개빵빵하게틀었어 대답하는 여친 좋아서 푸스스웃는남자.   \n",
       "6151                                        온아 웰릭스 null   \n",
       "6152                                                NaN   \n",
       "\n",
       "                                                      3  \\\n",
       "0                         근데 아침에 친구들이 연락와서 간만에 쉬는데 놀자네?   \n",
       "1     그리고 좌석 편안한데 사람들 중간에 들락날락하는거 적응안됨또 넘버 끝날때마다 정적 ...   \n",
       "2                                                   NaN   \n",
       "3                              초연의 문제라기보다는 편집의 문제 같다...   \n",
       "4                                    신시아나는 진짜 그대로 와...!   \n",
       "...                                                 ...   \n",
       "6148                                                NaN   \n",
       "6149                                           조건만남애인대행   \n",
       "6150                                         나부어찌......   \n",
       "6151                                                NaN   \n",
       "6152                                                NaN   \n",
       "\n",
       "                                       4  \\\n",
       "0                        실컷 놀고 집에 와서 아 개   \n",
       "1                                    NaN   \n",
       "2                                    NaN   \n",
       "3      180분짜리 극이 아무리 인터미션이 없어도 160분만에 되나   \n",
       "4                                    NaN   \n",
       "...                                  ...   \n",
       "6148                                 NaN   \n",
       "6149                      여공남수섹트일반후장출장안마   \n",
       "6150  추우면 붓기잘빠져 말듣고 그대로 여친 껴안아서 에어컨 바람 앞   \n",
       "6151                                 NaN   \n",
       "6152                                 NaN   \n",
       "\n",
       "                                                      5  \\\n",
       "0                                                   피곤해   \n",
       "1                                                   NaN   \n",
       "2                                                   NaN   \n",
       "3     했는데 ,전체적으로 빠른 느낌이고 대사도 많이 잘린 느낌  배우들이 길게 끌면서 부...   \n",
       "4                                                   NaN   \n",
       "...                                                 ...   \n",
       "6148                                                NaN   \n",
       "6149                                                NaN   \n",
       "6150                                                NaN   \n",
       "6151                                                NaN   \n",
       "6152                                                NaN   \n",
       "\n",
       "                                                      6  \\\n",
       "0                                             이러는데 번뜩!!   \n",
       "1                                                   NaN   \n",
       "2                                                   NaN   \n",
       "3     삼연이랑 비교해서 달라진 부분, 삼연에서 못 봤던 배우들 느낌 위주로 쓸게  +삼연...   \n",
       "4                                                   NaN   \n",
       "...                                                 ...   \n",
       "6148                                                NaN   \n",
       "6149                                                NaN   \n",
       "6150                                                NaN   \n",
       "6151                                                NaN   \n",
       "6152                                                NaN   \n",
       "\n",
       "                                              7  \\\n",
       "0     부랴부랴 cgv앱 들어가보니 마리앙은 지나갔고 웃남은 시작 10분전이었어.   \n",
       "1                                           NaN   \n",
       "2                                           NaN   \n",
       "3                      콤프라치코스가 17세기 영국에서 도망친다!!   \n",
       "4                                           NaN   \n",
       "...                                         ...   \n",
       "6148                                        NaN   \n",
       "6149                                        NaN   \n",
       "6150                                        NaN   \n",
       "6151                                        NaN   \n",
       "6152                                        NaN   \n",
       "\n",
       "                                                  8  \\\n",
       "0                                15분전까지만 취소가능하다며...   \n",
       "1                                               NaN   \n",
       "2                                               NaN   \n",
       "3     이 부분 정확한 대사는 모르겠는데 일단 콤프라치코스, 콤프라치코스, 콤프라치코스!   \n",
       "4                                               NaN   \n",
       "...                                             ...   \n",
       "6148                                            NaN   \n",
       "6149                                            NaN   \n",
       "6150                                            NaN   \n",
       "6151                                            NaN   \n",
       "6152                                            NaN   \n",
       "\n",
       "                                                      9  ...  281  282  283  \\\n",
       "0                                 평소에 공연날 깜빡해서 못가면 어쩌지?  ...  NaN  NaN  NaN   \n",
       "1                                                   NaN  ...  NaN  NaN  NaN   \n",
       "2                                                   NaN  ...  NaN  NaN  NaN   \n",
       "3     라고 부르는 부분 없었고, 콤프라치코스가 상처입힌 사람들 얼굴 없었음  - 콤프라치...  ...  NaN  NaN  NaN   \n",
       "4                                                   NaN  ...  NaN  NaN  NaN   \n",
       "...                                                 ...  ...  ...  ...  ...   \n",
       "6148                                                NaN  ...  NaN  NaN  NaN   \n",
       "6149                                                NaN  ...  NaN  NaN  NaN   \n",
       "6150                                                NaN  ...  NaN  NaN  NaN   \n",
       "6151                                                NaN  ...  NaN  NaN  NaN   \n",
       "6152                                                NaN  ...  NaN  NaN  NaN   \n",
       "\n",
       "      284  285  286  287  288  289  290  \n",
       "0     NaN  NaN  NaN  NaN  NaN  NaN  NaN  \n",
       "1     NaN  NaN  NaN  NaN  NaN  NaN  NaN  \n",
       "2     NaN  NaN  NaN  NaN  NaN  NaN  NaN  \n",
       "3     NaN  NaN  NaN  NaN  NaN  NaN  NaN  \n",
       "4     NaN  NaN  NaN  NaN  NaN  NaN  NaN  \n",
       "...   ...  ...  ...  ...  ...  ...  ...  \n",
       "6148  NaN  NaN  NaN  NaN  NaN  NaN  NaN  \n",
       "6149  NaN  NaN  NaN  NaN  NaN  NaN  NaN  \n",
       "6150  NaN  NaN  NaN  NaN  NaN  NaN  NaN  \n",
       "6151  NaN  NaN  NaN  NaN  NaN  NaN  NaN  \n",
       "6152  NaN  NaN  NaN  NaN  NaN  NaN  NaN  \n",
       "\n",
       "[6153 rows x 291 columns]"
      ]
     },
     "execution_count": 4,
     "metadata": {},
     "output_type": "execute_result"
    }
   ],
   "source": [
    "df"
   ]
  },
  {
   "cell_type": "code",
   "execution_count": 5,
   "metadata": {},
   "outputs": [
    {
     "data": {
      "text/plain": [
       "6153"
      ]
     },
     "execution_count": 5,
     "metadata": {},
     "output_type": "execute_result"
    }
   ],
   "source": [
    "len(df)"
   ]
  },
  {
   "cell_type": "code",
   "execution_count": 6,
   "metadata": {},
   "outputs": [
    {
     "data": {
      "text/plain": [
       "6153"
      ]
     },
     "execution_count": 6,
     "metadata": {},
     "output_type": "execute_result"
    }
   ],
   "source": [
    "arr = df.to_numpy()\n",
    "len(arr)"
   ]
  },
  {
   "cell_type": "code",
   "execution_count": 7,
   "metadata": {},
   "outputs": [
    {
     "data": {
      "text/plain": [
       "FunnelForSequenceClassification(\n",
       "  (funnel): FunnelBaseModel(\n",
       "    (embeddings): FunnelEmbeddings(\n",
       "      (word_embeddings): Embedding(42000, 768)\n",
       "      (layer_norm): LayerNorm((768,), eps=1e-09, elementwise_affine=True)\n",
       "      (dropout): Dropout(p=0.1, inplace=False)\n",
       "    )\n",
       "    (encoder): FunnelEncoder(\n",
       "      (attention_structure): FunnelAttentionStructure(\n",
       "        (sin_dropout): Dropout(p=0.1, inplace=False)\n",
       "        (cos_dropout): Dropout(p=0.1, inplace=False)\n",
       "      )\n",
       "      (blocks): ModuleList(\n",
       "        (0-2): 3 x ModuleList(\n",
       "          (0-5): 6 x FunnelLayer(\n",
       "            (attention): FunnelRelMultiheadAttention(\n",
       "              (hidden_dropout): Dropout(p=0.1, inplace=False)\n",
       "              (attention_dropout): Dropout(p=0.1, inplace=False)\n",
       "              (q_head): Linear(in_features=768, out_features=768, bias=False)\n",
       "              (k_head): Linear(in_features=768, out_features=768, bias=True)\n",
       "              (v_head): Linear(in_features=768, out_features=768, bias=True)\n",
       "              (post_proj): Linear(in_features=768, out_features=768, bias=True)\n",
       "              (layer_norm): LayerNorm((768,), eps=1e-09, elementwise_affine=True)\n",
       "            )\n",
       "            (ffn): FunnelPositionwiseFFN(\n",
       "              (linear_1): Linear(in_features=768, out_features=3072, bias=True)\n",
       "              (activation_function): NewGELUActivation()\n",
       "              (activation_dropout): Dropout(p=0.0, inplace=False)\n",
       "              (linear_2): Linear(in_features=3072, out_features=768, bias=True)\n",
       "              (dropout): Dropout(p=0.1, inplace=False)\n",
       "              (layer_norm): LayerNorm((768,), eps=1e-09, elementwise_affine=True)\n",
       "            )\n",
       "          )\n",
       "        )\n",
       "      )\n",
       "    )\n",
       "  )\n",
       "  (classifier): FunnelClassificationHead(\n",
       "    (linear_hidden): Linear(in_features=768, out_features=768, bias=True)\n",
       "    (dropout): Dropout(p=0.1, inplace=False)\n",
       "    (linear_out): Linear(in_features=768, out_features=2, bias=True)\n",
       "  )\n",
       ")"
      ]
     },
     "execution_count": 7,
     "metadata": {},
     "output_type": "execute_result"
    }
   ],
   "source": [
    "tokenizer_funnel = FunnelTokenizerFast.from_pretrained(\"kykim/funnel-kor-base\")\n",
    "model_funnel = FunnelForSequenceClassification.from_pretrained(\"./FunnelLM/\")\n",
    "model_funnel = model_funnel.to(device)\n",
    "model_funnel.eval()"
   ]
  },
  {
   "cell_type": "code",
   "execution_count": 8,
   "metadata": {},
   "outputs": [
    {
     "name": "stdout",
     "output_type": "stream",
     "text": [
      "FunnelForSequenceClassification(\n",
      "  (funnel): FunnelBaseModel(\n",
      "    (embeddings): FunnelEmbeddings(\n",
      "      (word_embeddings): Embedding(42000, 768)\n",
      "      (layer_norm): LayerNorm((768,), eps=1e-09, elementwise_affine=True)\n",
      "      (dropout): Dropout(p=0.1, inplace=False)\n",
      "    )\n",
      "    (encoder): FunnelEncoder(\n",
      "      (attention_structure): FunnelAttentionStructure(\n",
      "        (sin_dropout): Dropout(p=0.1, inplace=False)\n",
      "        (cos_dropout): Dropout(p=0.1, inplace=False)\n",
      "      )\n",
      "      (blocks): ModuleList(\n",
      "        (0-2): 3 x ModuleList(\n",
      "          (0-5): 6 x FunnelLayer(\n",
      "            (attention): FunnelRelMultiheadAttention(\n",
      "              (hidden_dropout): Dropout(p=0.1, inplace=False)\n",
      "              (attention_dropout): Dropout(p=0.1, inplace=False)\n",
      "              (q_head): Linear(in_features=768, out_features=768, bias=False)\n",
      "              (k_head): Linear(in_features=768, out_features=768, bias=True)\n",
      "              (v_head): Linear(in_features=768, out_features=768, bias=True)\n",
      "              (post_proj): Linear(in_features=768, out_features=768, bias=True)\n",
      "              (layer_norm): LayerNorm((768,), eps=1e-09, elementwise_affine=True)\n",
      "            )\n",
      "            (ffn): FunnelPositionwiseFFN(\n",
      "              (linear_1): Linear(in_features=768, out_features=3072, bias=True)\n",
      "              (activation_function): NewGELUActivation()\n",
      "              (activation_dropout): Dropout(p=0.0, inplace=False)\n",
      "              (linear_2): Linear(in_features=3072, out_features=768, bias=True)\n",
      "              (dropout): Dropout(p=0.1, inplace=False)\n",
      "              (layer_norm): LayerNorm((768,), eps=1e-09, elementwise_affine=True)\n",
      "            )\n",
      "          )\n",
      "        )\n",
      "      )\n",
      "    )\n",
      "  )\n",
      "  (classifier): FunnelClassificationHead(\n",
      "    (linear_hidden): Linear(in_features=768, out_features=768, bias=True)\n",
      "    (dropout): Dropout(p=0.1, inplace=False)\n",
      "    (linear_out): Linear(in_features=768, out_features=2, bias=True)\n",
      "  )\n",
      ")\n"
     ]
    }
   ],
   "source": [
    "print(model_funnel)"
   ]
  },
  {
   "cell_type": "code",
   "execution_count": 9,
   "metadata": {},
   "outputs": [
    {
     "data": {
      "text/plain": [
       "6153"
      ]
     },
     "execution_count": 9,
     "metadata": {},
     "output_type": "execute_result"
    }
   ],
   "source": [
    "pr_in = []\n",
    "for str_arr in arr:\n",
    "    str_arr = [string for string in str_arr if type(string) == str]\n",
    "    pr_in.append(' '.join(str_arr))\n",
    "len(pr_in)"
   ]
  },
  {
   "cell_type": "code",
   "execution_count": 10,
   "metadata": {},
   "outputs": [],
   "source": [
    "collator = DataCollatorWithPadding(tokenizer_funnel, padding=True, max_length=tokenizer_funnel.model_max_length)"
   ]
  },
  {
   "cell_type": "code",
   "execution_count": 11,
   "metadata": {},
   "outputs": [
    {
     "name": "stderr",
     "output_type": "stream",
     "text": [
      "You're using a FunnelTokenizerFast tokenizer. Please note that with a fast tokenizer, using the `__call__` method is faster than using a method to encode the text followed by a call to the `pad` method to get a padded encoding.\n",
      "c:\\Users\\sizzf\\.conda\\envs\\torch\\lib\\site-packages\\transformers\\tokenization_utils_base.py:2382: UserWarning: `max_length` is ignored when `padding`=`True` and there is no truncation strategy. To pad to max length, use `padding='max_length'`.\n",
      "  warnings.warn(\n"
     ]
    },
    {
     "data": {
      "text/plain": [
       "tensor([[    2, 16030, 19783,  ...,     0,     0,     0],\n",
       "        [    2,  5793,  8308,  ...,     0,     0,     0],\n",
       "        [    2,  4436,  8195,  ...,     0,     0,     0],\n",
       "        ...,\n",
       "        [    2, 19820,  8311,  ...,     0,     0,     0],\n",
       "        [    2, 27551, 25661,  ...,     0,     0,     0],\n",
       "        [    2, 30077, 22205,  ...,     0,     0,     0]])"
      ]
     },
     "execution_count": 11,
     "metadata": {},
     "output_type": "execute_result"
    }
   ],
   "source": [
    "tokenized_in = tokenizer_funnel(pr_in, padding=True, truncation=True, max_length=tokenizer_funnel.model_max_length)\n",
    "collated_in = collator(tokenized_in)\n",
    "collated_in['input_ids']"
   ]
  },
  {
   "cell_type": "code",
   "execution_count": 12,
   "metadata": {},
   "outputs": [
    {
     "data": {
      "text/plain": [
       "512"
      ]
     },
     "execution_count": 12,
     "metadata": {},
     "output_type": "execute_result"
    }
   ],
   "source": [
    "len(collated_in['input_ids'][0])"
   ]
  },
  {
   "cell_type": "code",
   "execution_count": 13,
   "metadata": {},
   "outputs": [
    {
     "data": {
      "text/plain": [
       "6153"
      ]
     },
     "execution_count": 13,
     "metadata": {},
     "output_type": "execute_result"
    }
   ],
   "source": [
    "len(pr_in)"
   ]
  },
  {
   "cell_type": "code",
   "execution_count": 14,
   "metadata": {},
   "outputs": [
    {
     "data": {
      "application/vnd.jupyter.widget-view+json": {
       "model_id": "85642b8381c74913b8be65922753a6fa",
       "version_major": 2,
       "version_minor": 0
      },
      "text/plain": [
       "  0%|          | 0/10 [00:00<?, ?it/s]"
      ]
     },
     "metadata": {},
     "output_type": "display_data"
    },
    {
     "data": {
      "application/vnd.jupyter.widget-view+json": {
       "model_id": "6b7da99d91df4a76aa8c4757ca3b0985",
       "version_major": 2,
       "version_minor": 0
      },
      "text/plain": [
       "  0%|          | 0/10 [00:00<?, ?it/s]"
      ]
     },
     "metadata": {},
     "output_type": "display_data"
    },
    {
     "data": {
      "application/vnd.jupyter.widget-view+json": {
       "model_id": "3425b4e3c2934858ae12dbb3205fc6ed",
       "version_major": 2,
       "version_minor": 0
      },
      "text/plain": [
       "  0%|          | 0/10 [00:00<?, ?it/s]"
      ]
     },
     "metadata": {},
     "output_type": "display_data"
    },
    {
     "data": {
      "application/vnd.jupyter.widget-view+json": {
       "model_id": "c2a622f4b625476ebc2a7093009a44a2",
       "version_major": 2,
       "version_minor": 0
      },
      "text/plain": [
       "  0%|          | 0/10 [00:00<?, ?it/s]"
      ]
     },
     "metadata": {},
     "output_type": "display_data"
    },
    {
     "data": {
      "application/vnd.jupyter.widget-view+json": {
       "model_id": "eb86e73d7c634ed7b2b2ca8ced715aea",
       "version_major": 2,
       "version_minor": 0
      },
      "text/plain": [
       "  0%|          | 0/10 [00:00<?, ?it/s]"
      ]
     },
     "metadata": {},
     "output_type": "display_data"
    },
    {
     "data": {
      "application/vnd.jupyter.widget-view+json": {
       "model_id": "2db74b42362d41b78276ead99506bca9",
       "version_major": 2,
       "version_minor": 0
      },
      "text/plain": [
       "  0%|          | 0/10 [00:00<?, ?it/s]"
      ]
     },
     "metadata": {},
     "output_type": "display_data"
    },
    {
     "data": {
      "application/vnd.jupyter.widget-view+json": {
       "model_id": "70db37fe9f0d4782b10db3417ca2eff3",
       "version_major": 2,
       "version_minor": 0
      },
      "text/plain": [
       "  0%|          | 0/10 [00:00<?, ?it/s]"
      ]
     },
     "metadata": {},
     "output_type": "display_data"
    },
    {
     "data": {
      "application/vnd.jupyter.widget-view+json": {
       "model_id": "787a8cc8fc9142dbb7f7d0eac94d5e24",
       "version_major": 2,
       "version_minor": 0
      },
      "text/plain": [
       "  0%|          | 0/10 [00:00<?, ?it/s]"
      ]
     },
     "metadata": {},
     "output_type": "display_data"
    },
    {
     "name": "stdout",
     "output_type": "stream",
     "text": [
      "12.5 s ± 131 ms per loop (mean ± std. dev. of 7 runs, 1 loop each)\n"
     ]
    }
   ],
   "source": [
    "%%timeit\n",
    "#benchmark\n",
    "\n",
    "batch_size = 64\n",
    "N = len(pr_in)\n",
    "\n",
    "with torch.no_grad():\n",
    "    for i in tqdm(range(10)):\n",
    "        start, end = 0, batch_size\n",
    "        input_ids = collated_in['input_ids'][start:end].to(device)\n",
    "        attention_mask = collated_in['attention_mask'][start:end].to(device)\n",
    "        token_type_ids = collated_in['token_type_ids'][start:end].to(device)\n",
    "        probability = torch.softmax(model_funnel.forward(input_ids=input_ids, attention_mask=attention_mask, token_type_ids=token_type_ids).logits, dim=1)\n",
    "        prediction = torch.argmax(probability, dim=1)\n",
    "        # print(f\"{i*batch_size}: {prediction}\")\n",
    "        del input_ids\n",
    "        del attention_mask\n",
    "        del token_type_ids\n",
    "        del prediction"
   ]
  },
  {
   "cell_type": "code",
   "execution_count": 15,
   "metadata": {},
   "outputs": [
    {
     "data": {
      "application/vnd.jupyter.widget-view+json": {
       "model_id": "7071d6c860644e3899b7f1a25b34c4f6",
       "version_major": 2,
       "version_minor": 0
      },
      "text/plain": [
       "  0%|          | 0/97 [00:00<?, ?it/s]"
      ]
     },
     "metadata": {},
     "output_type": "display_data"
    }
   ],
   "source": [
    "batch_size = 64\n",
    "N = len(pr_in)\n",
    "predictions = []\n",
    "probabilities = []\n",
    "\n",
    "with torch.no_grad():\n",
    "    for i, n in enumerate(tqdm(range(0+batch_size, N+batch_size-1, batch_size))):\n",
    "        start, end = max(0, n-batch_size), n\n",
    "        input_ids = collated_in['input_ids'][start:end].to(device)\n",
    "        attention_mask = collated_in['attention_mask'][start:end].to(device)\n",
    "        token_type_ids = collated_in['token_type_ids'][start:end].to(device)\n",
    "        probability = torch.softmax(model_funnel.forward(input_ids=input_ids, attention_mask=attention_mask, token_type_ids=token_type_ids).logits, dim=1)\n",
    "        prediction = torch.argmax(probability, dim=1)\n",
    "        # print(f\"{n}: {prediction}\")\n",
    "        probabilities.append(probability)\n",
    "        predictions.extend([(text, prediction[j].item()) for j, text in enumerate(pr_in[start:end])])\n",
    "        del input_ids\n",
    "        del attention_mask\n",
    "        del token_type_ids\n",
    "        del prediction\n"
   ]
  },
  {
   "cell_type": "code",
   "execution_count": 16,
   "metadata": {},
   "outputs": [
    {
     "data": {
      "text/plain": [
       "291"
      ]
     },
     "execution_count": 16,
     "metadata": {},
     "output_type": "execute_result"
    }
   ],
   "source": [
    "len(df.columns)"
   ]
  },
  {
   "cell_type": "code",
   "execution_count": 17,
   "metadata": {},
   "outputs": [],
   "source": [
    "df = pd.read_csv(os.path.join(\"inspected_data\", f\"{theme}_inspected.csv\"))"
   ]
  },
  {
   "cell_type": "code",
   "execution_count": 18,
   "metadata": {},
   "outputs": [
    {
     "data": {
      "text/html": [
       "<div>\n",
       "<style scoped>\n",
       "    .dataframe tbody tr th:only-of-type {\n",
       "        vertical-align: middle;\n",
       "    }\n",
       "\n",
       "    .dataframe tbody tr th {\n",
       "        vertical-align: top;\n",
       "    }\n",
       "\n",
       "    .dataframe thead th {\n",
       "        text-align: right;\n",
       "    }\n",
       "</style>\n",
       "<table border=\"1\" class=\"dataframe\">\n",
       "  <thead>\n",
       "    <tr style=\"text-align: right;\">\n",
       "      <th></th>\n",
       "      <th>source</th>\n",
       "      <th>nickname</th>\n",
       "      <th>date</th>\n",
       "      <th>title</th>\n",
       "      <th>text</th>\n",
       "      <th>href</th>\n",
       "    </tr>\n",
       "  </thead>\n",
       "  <tbody>\n",
       "    <tr>\n",
       "      <th>0</th>\n",
       "      <td>dc</td>\n",
       "      <td>ㅇㅇ</td>\n",
       "      <td>2023.01.11 00:36:37</td>\n",
       "      <td>ㅃ 어제 마리앙이랑 웃남 영화 관람일이었는데 까먹고 안갔어 휴..</td>\n",
       "      <td>\\n\\n나 어제 간만에 쉬는날이라 두 탕 하려고 마리앙 웃남 예매해 놨었거든?\\n근...</td>\n",
       "      <td>https://gall.dcinside.com/mini/board/view/?id=...</td>\n",
       "    </tr>\n",
       "    <tr>\n",
       "      <th>1</th>\n",
       "      <td>dc</td>\n",
       "      <td>ㅇㅇ</td>\n",
       "      <td>2023.01.10 22:04:09</td>\n",
       "      <td>ㅃㅃ웃남cgv 머글 많더라</td>\n",
       "      <td>\\n\\n난 뮤덕들만 이런 영화 찾아올줄 알았는데 커플도 많고 가족단위도 많더라\\n그...</td>\n",
       "      <td>https://gall.dcinside.com/mini/board/view/?id=...</td>\n",
       "    </tr>\n",
       "    <tr>\n",
       "      <th>2</th>\n",
       "      <td>dc</td>\n",
       "      <td>ㅇㅇ</td>\n",
       "      <td>2023.01.10 16:14:45</td>\n",
       "      <td>베토벤 넘버 더 없나</td>\n",
       "      <td>\\n\\n웃남때는 넘버 처음듣고 이거다 하는게 몇개 있었는데 이번꺼는 뭔가 듣자마자 ...</td>\n",
       "      <td>https://gall.dcinside.com/mini/board/view/?id=...</td>\n",
       "    </tr>\n",
       "    <tr>\n",
       "      <th>3</th>\n",
       "      <td>dc</td>\n",
       "      <td>ㅇㅇ</td>\n",
       "      <td>2023.01.09 23:07:07</td>\n",
       "      <td>CGV 웃남 후기(스포,불호 있음)</td>\n",
       "      <td>\\n\\n웃남 삼연만 본사고 초연 가든파티가 궁금해서 봤는데...초연의 문제라기보다는...</td>\n",
       "      <td>https://gall.dcinside.com/mini/board/view/?id=...</td>\n",
       "    </tr>\n",
       "    <tr>\n",
       "      <th>4</th>\n",
       "      <td>dc</td>\n",
       "      <td>ㅇㅇ</td>\n",
       "      <td>2023.01.09 22:29:33</td>\n",
       "      <td>(끌올) 한뮤어 웃남 불판</td>\n",
       "      <td>\\n\\nhttps://m.dcinside.com/mini/theatergoing/5...</td>\n",
       "      <td>https://gall.dcinside.com/mini/board/view/?id=...</td>\n",
       "    </tr>\n",
       "    <tr>\n",
       "      <th>...</th>\n",
       "      <td>...</td>\n",
       "      <td>...</td>\n",
       "      <td>...</td>\n",
       "      <td>...</td>\n",
       "      <td>...</td>\n",
       "      <td>...</td>\n",
       "    </tr>\n",
       "    <tr>\n",
       "      <th>6148</th>\n",
       "      <td>twitter</td>\n",
       "      <td>dolphinwhale_</td>\n",
       "      <td>2022-11-01 07:14:08+00:00</td>\n",
       "      <td>NaN</td>\n",
       "      <td>220814 웃는남자 https://t.co/4vFw7BMFK6</td>\n",
       "      <td>https://twitter.com/twitter/status/15873422080...</td>\n",
       "    </tr>\n",
       "    <tr>\n",
       "      <th>6149</th>\n",
       "      <td>twitter</td>\n",
       "      <td>rlehd7679</td>\n",
       "      <td>2022-11-01 04:30:18+00:00</td>\n",
       "      <td>NaN</td>\n",
       "      <td>#웃는남자\\n네일식스_보노보노 다젖음 작업실 \\n💟#조건만남#애인대행 #여공남수#섹...</td>\n",
       "      <td>https://twitter.com/twitter/status/15873009788...</td>\n",
       "    </tr>\n",
       "    <tr>\n",
       "      <th>6150</th>\n",
       "      <td>twitter</td>\n",
       "      <td>gunhyun0429</td>\n",
       "      <td>2022-11-01 03:13:54+00:00</td>\n",
       "      <td>NaN</td>\n",
       "      <td>RT @gkflqy: 애기야혹시비와....? 깨자마자 저벅저벅 걸어와서 여친 껴안고...</td>\n",
       "      <td>https://twitter.com/twitter/status/15872817520...</td>\n",
       "    </tr>\n",
       "    <tr>\n",
       "      <th>6151</th>\n",
       "      <td>twitter</td>\n",
       "      <td>kjy2429812</td>\n",
       "      <td>2022-11-01 01:58:24+00:00</td>\n",
       "      <td>NaN</td>\n",
       "      <td>#웃는남자\\n송파구가족센터 오늘도못자고있다😑😑 온아 웰릭스 \\nnull https:...</td>\n",
       "      <td>https://twitter.com/twitter/status/15872627514...</td>\n",
       "    </tr>\n",
       "    <tr>\n",
       "      <th>6152</th>\n",
       "      <td>twitter</td>\n",
       "      <td>gkarur07</td>\n",
       "      <td>2022-11-01 01:06:55+00:00</td>\n",
       "      <td>NaN</td>\n",
       "      <td>수호 https://t.co/D3gruoXovo\\n뮤지컬 https://t.co/y...</td>\n",
       "      <td>https://twitter.com/twitter/status/15872497948...</td>\n",
       "    </tr>\n",
       "  </tbody>\n",
       "</table>\n",
       "<p>6153 rows × 6 columns</p>\n",
       "</div>"
      ],
      "text/plain": [
       "       source       nickname                       date  \\\n",
       "0          dc             ㅇㅇ        2023.01.11 00:36:37   \n",
       "1          dc             ㅇㅇ        2023.01.10 22:04:09   \n",
       "2          dc             ㅇㅇ        2023.01.10 16:14:45   \n",
       "3          dc             ㅇㅇ        2023.01.09 23:07:07   \n",
       "4          dc             ㅇㅇ        2023.01.09 22:29:33   \n",
       "...       ...            ...                        ...   \n",
       "6148  twitter  dolphinwhale_  2022-11-01 07:14:08+00:00   \n",
       "6149  twitter      rlehd7679  2022-11-01 04:30:18+00:00   \n",
       "6150  twitter    gunhyun0429  2022-11-01 03:13:54+00:00   \n",
       "6151  twitter     kjy2429812  2022-11-01 01:58:24+00:00   \n",
       "6152  twitter       gkarur07  2022-11-01 01:06:55+00:00   \n",
       "\n",
       "                                     title  \\\n",
       "0     ㅃ 어제 마리앙이랑 웃남 영화 관람일이었는데 까먹고 안갔어 휴..   \n",
       "1                           ㅃㅃ웃남cgv 머글 많더라   \n",
       "2                              베토벤 넘버 더 없나   \n",
       "3                      CGV 웃남 후기(스포,불호 있음)   \n",
       "4                           (끌올) 한뮤어 웃남 불판   \n",
       "...                                    ...   \n",
       "6148                                   NaN   \n",
       "6149                                   NaN   \n",
       "6150                                   NaN   \n",
       "6151                                   NaN   \n",
       "6152                                   NaN   \n",
       "\n",
       "                                                   text  \\\n",
       "0     \\n\\n나 어제 간만에 쉬는날이라 두 탕 하려고 마리앙 웃남 예매해 놨었거든?\\n근...   \n",
       "1     \\n\\n난 뮤덕들만 이런 영화 찾아올줄 알았는데 커플도 많고 가족단위도 많더라\\n그...   \n",
       "2     \\n\\n웃남때는 넘버 처음듣고 이거다 하는게 몇개 있었는데 이번꺼는 뭔가 듣자마자 ...   \n",
       "3     \\n\\n웃남 삼연만 본사고 초연 가든파티가 궁금해서 봤는데...초연의 문제라기보다는...   \n",
       "4     \\n\\nhttps://m.dcinside.com/mini/theatergoing/5...   \n",
       "...                                                 ...   \n",
       "6148                220814 웃는남자 https://t.co/4vFw7BMFK6   \n",
       "6149  #웃는남자\\n네일식스_보노보노 다젖음 작업실 \\n💟#조건만남#애인대행 #여공남수#섹...   \n",
       "6150  RT @gkflqy: 애기야혹시비와....? 깨자마자 저벅저벅 걸어와서 여친 껴안고...   \n",
       "6151  #웃는남자\\n송파구가족센터 오늘도못자고있다😑😑 온아 웰릭스 \\nnull https:...   \n",
       "6152  수호 https://t.co/D3gruoXovo\\n뮤지컬 https://t.co/y...   \n",
       "\n",
       "                                                   href  \n",
       "0     https://gall.dcinside.com/mini/board/view/?id=...  \n",
       "1     https://gall.dcinside.com/mini/board/view/?id=...  \n",
       "2     https://gall.dcinside.com/mini/board/view/?id=...  \n",
       "3     https://gall.dcinside.com/mini/board/view/?id=...  \n",
       "4     https://gall.dcinside.com/mini/board/view/?id=...  \n",
       "...                                                 ...  \n",
       "6148  https://twitter.com/twitter/status/15873422080...  \n",
       "6149  https://twitter.com/twitter/status/15873009788...  \n",
       "6150  https://twitter.com/twitter/status/15872817520...  \n",
       "6151  https://twitter.com/twitter/status/15872627514...  \n",
       "6152  https://twitter.com/twitter/status/15872497948...  \n",
       "\n",
       "[6153 rows x 6 columns]"
      ]
     },
     "execution_count": 18,
     "metadata": {},
     "output_type": "execute_result"
    }
   ],
   "source": [
    "df"
   ]
  },
  {
   "cell_type": "code",
   "execution_count": 19,
   "metadata": {},
   "outputs": [
    {
     "name": "stdout",
     "output_type": "stream",
     "text": [
      "6153\n"
     ]
    }
   ],
   "source": [
    "pr_series = pd.Series([prediction[1] for prediction in predictions])\n",
    "df.insert(loc=5, column=\"prediction\", value = pr_series)\n",
    "print(len(predictions))"
   ]
  },
  {
   "cell_type": "code",
   "execution_count": 20,
   "metadata": {},
   "outputs": [
    {
     "data": {
      "text/html": [
       "<div>\n",
       "<style scoped>\n",
       "    .dataframe tbody tr th:only-of-type {\n",
       "        vertical-align: middle;\n",
       "    }\n",
       "\n",
       "    .dataframe tbody tr th {\n",
       "        vertical-align: top;\n",
       "    }\n",
       "\n",
       "    .dataframe thead th {\n",
       "        text-align: right;\n",
       "    }\n",
       "</style>\n",
       "<table border=\"1\" class=\"dataframe\">\n",
       "  <thead>\n",
       "    <tr style=\"text-align: right;\">\n",
       "      <th></th>\n",
       "      <th>source</th>\n",
       "      <th>nickname</th>\n",
       "      <th>date</th>\n",
       "      <th>title</th>\n",
       "      <th>text</th>\n",
       "      <th>prediction</th>\n",
       "      <th>href</th>\n",
       "    </tr>\n",
       "  </thead>\n",
       "  <tbody>\n",
       "    <tr>\n",
       "      <th>0</th>\n",
       "      <td>dc</td>\n",
       "      <td>ㅇㅇ</td>\n",
       "      <td>2023.01.11 00:36:37</td>\n",
       "      <td>ㅃ 어제 마리앙이랑 웃남 영화 관람일이었는데 까먹고 안갔어 휴..</td>\n",
       "      <td>\\n\\n나 어제 간만에 쉬는날이라 두 탕 하려고 마리앙 웃남 예매해 놨었거든?\\n근...</td>\n",
       "      <td>0</td>\n",
       "      <td>https://gall.dcinside.com/mini/board/view/?id=...</td>\n",
       "    </tr>\n",
       "    <tr>\n",
       "      <th>1</th>\n",
       "      <td>dc</td>\n",
       "      <td>ㅇㅇ</td>\n",
       "      <td>2023.01.10 22:04:09</td>\n",
       "      <td>ㅃㅃ웃남cgv 머글 많더라</td>\n",
       "      <td>\\n\\n난 뮤덕들만 이런 영화 찾아올줄 알았는데 커플도 많고 가족단위도 많더라\\n그...</td>\n",
       "      <td>0</td>\n",
       "      <td>https://gall.dcinside.com/mini/board/view/?id=...</td>\n",
       "    </tr>\n",
       "    <tr>\n",
       "      <th>2</th>\n",
       "      <td>dc</td>\n",
       "      <td>ㅇㅇ</td>\n",
       "      <td>2023.01.10 16:14:45</td>\n",
       "      <td>베토벤 넘버 더 없나</td>\n",
       "      <td>\\n\\n웃남때는 넘버 처음듣고 이거다 하는게 몇개 있었는데 이번꺼는 뭔가 듣자마자 ...</td>\n",
       "      <td>0</td>\n",
       "      <td>https://gall.dcinside.com/mini/board/view/?id=...</td>\n",
       "    </tr>\n",
       "    <tr>\n",
       "      <th>3</th>\n",
       "      <td>dc</td>\n",
       "      <td>ㅇㅇ</td>\n",
       "      <td>2023.01.09 23:07:07</td>\n",
       "      <td>CGV 웃남 후기(스포,불호 있음)</td>\n",
       "      <td>\\n\\n웃남 삼연만 본사고 초연 가든파티가 궁금해서 봤는데...초연의 문제라기보다는...</td>\n",
       "      <td>1</td>\n",
       "      <td>https://gall.dcinside.com/mini/board/view/?id=...</td>\n",
       "    </tr>\n",
       "    <tr>\n",
       "      <th>4</th>\n",
       "      <td>dc</td>\n",
       "      <td>ㅇㅇ</td>\n",
       "      <td>2023.01.09 22:29:33</td>\n",
       "      <td>(끌올) 한뮤어 웃남 불판</td>\n",
       "      <td>\\n\\nhttps://m.dcinside.com/mini/theatergoing/5...</td>\n",
       "      <td>1</td>\n",
       "      <td>https://gall.dcinside.com/mini/board/view/?id=...</td>\n",
       "    </tr>\n",
       "    <tr>\n",
       "      <th>...</th>\n",
       "      <td>...</td>\n",
       "      <td>...</td>\n",
       "      <td>...</td>\n",
       "      <td>...</td>\n",
       "      <td>...</td>\n",
       "      <td>...</td>\n",
       "      <td>...</td>\n",
       "    </tr>\n",
       "    <tr>\n",
       "      <th>6148</th>\n",
       "      <td>twitter</td>\n",
       "      <td>dolphinwhale_</td>\n",
       "      <td>2022-11-01 07:14:08+00:00</td>\n",
       "      <td>NaN</td>\n",
       "      <td>220814 웃는남자 https://t.co/4vFw7BMFK6</td>\n",
       "      <td>1</td>\n",
       "      <td>https://twitter.com/twitter/status/15873422080...</td>\n",
       "    </tr>\n",
       "    <tr>\n",
       "      <th>6149</th>\n",
       "      <td>twitter</td>\n",
       "      <td>rlehd7679</td>\n",
       "      <td>2022-11-01 04:30:18+00:00</td>\n",
       "      <td>NaN</td>\n",
       "      <td>#웃는남자\\n네일식스_보노보노 다젖음 작업실 \\n💟#조건만남#애인대행 #여공남수#섹...</td>\n",
       "      <td>0</td>\n",
       "      <td>https://twitter.com/twitter/status/15873009788...</td>\n",
       "    </tr>\n",
       "    <tr>\n",
       "      <th>6150</th>\n",
       "      <td>twitter</td>\n",
       "      <td>gunhyun0429</td>\n",
       "      <td>2022-11-01 03:13:54+00:00</td>\n",
       "      <td>NaN</td>\n",
       "      <td>RT @gkflqy: 애기야혹시비와....? 깨자마자 저벅저벅 걸어와서 여친 껴안고...</td>\n",
       "      <td>0</td>\n",
       "      <td>https://twitter.com/twitter/status/15872817520...</td>\n",
       "    </tr>\n",
       "    <tr>\n",
       "      <th>6151</th>\n",
       "      <td>twitter</td>\n",
       "      <td>kjy2429812</td>\n",
       "      <td>2022-11-01 01:58:24+00:00</td>\n",
       "      <td>NaN</td>\n",
       "      <td>#웃는남자\\n송파구가족센터 오늘도못자고있다😑😑 온아 웰릭스 \\nnull https:...</td>\n",
       "      <td>1</td>\n",
       "      <td>https://twitter.com/twitter/status/15872627514...</td>\n",
       "    </tr>\n",
       "    <tr>\n",
       "      <th>6152</th>\n",
       "      <td>twitter</td>\n",
       "      <td>gkarur07</td>\n",
       "      <td>2022-11-01 01:06:55+00:00</td>\n",
       "      <td>NaN</td>\n",
       "      <td>수호 https://t.co/D3gruoXovo\\n뮤지컬 https://t.co/y...</td>\n",
       "      <td>1</td>\n",
       "      <td>https://twitter.com/twitter/status/15872497948...</td>\n",
       "    </tr>\n",
       "  </tbody>\n",
       "</table>\n",
       "<p>6153 rows × 7 columns</p>\n",
       "</div>"
      ],
      "text/plain": [
       "       source       nickname                       date  \\\n",
       "0          dc             ㅇㅇ        2023.01.11 00:36:37   \n",
       "1          dc             ㅇㅇ        2023.01.10 22:04:09   \n",
       "2          dc             ㅇㅇ        2023.01.10 16:14:45   \n",
       "3          dc             ㅇㅇ        2023.01.09 23:07:07   \n",
       "4          dc             ㅇㅇ        2023.01.09 22:29:33   \n",
       "...       ...            ...                        ...   \n",
       "6148  twitter  dolphinwhale_  2022-11-01 07:14:08+00:00   \n",
       "6149  twitter      rlehd7679  2022-11-01 04:30:18+00:00   \n",
       "6150  twitter    gunhyun0429  2022-11-01 03:13:54+00:00   \n",
       "6151  twitter     kjy2429812  2022-11-01 01:58:24+00:00   \n",
       "6152  twitter       gkarur07  2022-11-01 01:06:55+00:00   \n",
       "\n",
       "                                     title  \\\n",
       "0     ㅃ 어제 마리앙이랑 웃남 영화 관람일이었는데 까먹고 안갔어 휴..   \n",
       "1                           ㅃㅃ웃남cgv 머글 많더라   \n",
       "2                              베토벤 넘버 더 없나   \n",
       "3                      CGV 웃남 후기(스포,불호 있음)   \n",
       "4                           (끌올) 한뮤어 웃남 불판   \n",
       "...                                    ...   \n",
       "6148                                   NaN   \n",
       "6149                                   NaN   \n",
       "6150                                   NaN   \n",
       "6151                                   NaN   \n",
       "6152                                   NaN   \n",
       "\n",
       "                                                   text  prediction  \\\n",
       "0     \\n\\n나 어제 간만에 쉬는날이라 두 탕 하려고 마리앙 웃남 예매해 놨었거든?\\n근...           0   \n",
       "1     \\n\\n난 뮤덕들만 이런 영화 찾아올줄 알았는데 커플도 많고 가족단위도 많더라\\n그...           0   \n",
       "2     \\n\\n웃남때는 넘버 처음듣고 이거다 하는게 몇개 있었는데 이번꺼는 뭔가 듣자마자 ...           0   \n",
       "3     \\n\\n웃남 삼연만 본사고 초연 가든파티가 궁금해서 봤는데...초연의 문제라기보다는...           1   \n",
       "4     \\n\\nhttps://m.dcinside.com/mini/theatergoing/5...           1   \n",
       "...                                                 ...         ...   \n",
       "6148                220814 웃는남자 https://t.co/4vFw7BMFK6           1   \n",
       "6149  #웃는남자\\n네일식스_보노보노 다젖음 작업실 \\n💟#조건만남#애인대행 #여공남수#섹...           0   \n",
       "6150  RT @gkflqy: 애기야혹시비와....? 깨자마자 저벅저벅 걸어와서 여친 껴안고...           0   \n",
       "6151  #웃는남자\\n송파구가족센터 오늘도못자고있다😑😑 온아 웰릭스 \\nnull https:...           1   \n",
       "6152  수호 https://t.co/D3gruoXovo\\n뮤지컬 https://t.co/y...           1   \n",
       "\n",
       "                                                   href  \n",
       "0     https://gall.dcinside.com/mini/board/view/?id=...  \n",
       "1     https://gall.dcinside.com/mini/board/view/?id=...  \n",
       "2     https://gall.dcinside.com/mini/board/view/?id=...  \n",
       "3     https://gall.dcinside.com/mini/board/view/?id=...  \n",
       "4     https://gall.dcinside.com/mini/board/view/?id=...  \n",
       "...                                                 ...  \n",
       "6148  https://twitter.com/twitter/status/15873422080...  \n",
       "6149  https://twitter.com/twitter/status/15873009788...  \n",
       "6150  https://twitter.com/twitter/status/15872817520...  \n",
       "6151  https://twitter.com/twitter/status/15872627514...  \n",
       "6152  https://twitter.com/twitter/status/15872497948...  \n",
       "\n",
       "[6153 rows x 7 columns]"
      ]
     },
     "execution_count": 20,
     "metadata": {},
     "output_type": "execute_result"
    }
   ],
   "source": [
    "df"
   ]
  },
  {
   "cell_type": "code",
   "execution_count": 21,
   "metadata": {},
   "outputs": [],
   "source": [
    "pb_array = np.concatenate([probability.to(\"cpu\") for probability in probabilities], axis=0)\n",
    "pb0_series, pb1_series = pd.Series(pb_array[:,0]), pd.Series(pb_array[:,1])\n",
    "df.insert(loc=6, column=\"False\", value = pb0_series)\n",
    "df.insert(loc=7, column=\"True\", value = pb1_series)"
   ]
  },
  {
   "cell_type": "code",
   "execution_count": null,
   "metadata": {},
   "outputs": [],
   "source": [
    "df.to_csv(f\"./classification/{theme}_classified.csv\", encoding=\"utf-8 sig\", index=False)"
   ]
  },
  {
   "cell_type": "code",
   "execution_count": null,
   "metadata": {},
   "outputs": [],
   "source": []
  }
 ],
 "metadata": {
  "kernelspec": {
   "display_name": "torch",
   "language": "python",
   "name": "python3"
  },
  "language_info": {
   "codemirror_mode": {
    "name": "ipython",
    "version": 3
   },
   "file_extension": ".py",
   "mimetype": "text/x-python",
   "name": "python",
   "nbconvert_exporter": "python",
   "pygments_lexer": "ipython3",
   "version": "3.9.16"
  },
  "orig_nbformat": 4,
  "vscode": {
   "interpreter": {
    "hash": "6e47abb3bc20041deac6632286b3b4b57a061d2b0d8fe9baeeda94211020ef32"
   }
  }
 },
 "nbformat": 4,
 "nbformat_minor": 2
}
